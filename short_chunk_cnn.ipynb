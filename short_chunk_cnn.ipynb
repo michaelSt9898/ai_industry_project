{
 "cells": [
  {
   "cell_type": "code",
   "execution_count": 7,
   "metadata": {},
   "outputs": [],
   "source": [
    "import numpy as np\n",
    "from keras.models import Sequential, Model, load_model\n",
    "from keras.layers import Dense, Dropout, Flatten, LSTM\n",
    "from keras.layers import Conv2D, MaxPooling2D, Conv1D, MaxPooling1D, MaxPool1D, GaussianNoise, GlobalMaxPooling1D\n",
    "from keras.layers import BatchNormalization\n",
    "from keras.layers import LeakyReLU\n",
    "from keras.callbacks import ModelCheckpoint\n",
    "from sklearn.metrics import confusion_matrix\n",
    "import seaborn as sn\n",
    "import os"
   ]
  },
  {
   "cell_type": "markdown",
   "metadata": {},
   "source": [
    "Load in the preprocessed data"
   ]
  },
  {
   "cell_type": "code",
   "execution_count": 8,
   "metadata": {},
   "outputs": [
    {
     "name": "stdout",
     "output_type": "stream",
     "text": [
      "Loaded 12 files:\n",
      "    melspec_features_001.npy\n",
      "    melspec_features_002.npy\n",
      "    melspec_features_003.npy\n",
      "    melspec_features_004.npy\n",
      "    melspec_features_005.npy\n",
      "    melspec_features_006.npy\n",
      "    melspec_features_007.npy\n",
      "    melspec_features_008.npy\n",
      "    melspec_features_009.npy\n",
      "    melspec_features_010.npy\n",
      "    melspec_features_011.npy\n",
      "    melspec_features_012.npy\n",
      "Features: (4068, 33088)\n",
      "Labels: (4068, 5)\n"
     ]
    }
   ],
   "source": [
    "from save_utils import load_sliced_numpy_array\n",
    "\n",
    "melspec_data = load_sliced_numpy_array('melspec_features')\n",
    "labels = np.load('data/labels.npy')\n",
    "\n",
    "print(\"Features:\", melspec_data.shape)\n",
    "print(\"Labels:\", labels.shape)"
   ]
  },
  {
   "cell_type": "markdown",
   "metadata": {},
   "source": [
    "Split the data into train and test set"
   ]
  },
  {
   "cell_type": "code",
   "execution_count": 12,
   "metadata": {},
   "outputs": [
    {
     "name": "stdout",
     "output_type": "stream",
     "text": [
      "(3254, 33088)\n",
      "(814, 33088)\n",
      "(3254, 5)\n",
      "(814, 5)\n"
     ]
    }
   ],
   "source": [
    "data_split = 0.8\n",
    "split_index = int(0.8*melspec_data.shape[0])\n",
    "\n",
    "mel_train = melspec_data[:split_index,:]\n",
    "mel_test = melspec_data[split_index:,:]\n",
    "\n",
    "lab_train = labels[:split_index,:]\n",
    "lab_test = labels[split_index:,:]\n",
    "\n",
    "print(mel_train.shape)\n",
    "print(mel_test.shape)\n",
    "\n",
    "print(lab_train.shape)\n",
    "print(lab_test.shape)"
   ]
  },
  {
   "cell_type": "markdown",
   "metadata": {},
   "source": [
    "Normalize the data (3254, 64, 517)"
   ]
  },
  {
   "cell_type": "code",
   "execution_count": 19,
   "metadata": {},
   "outputs": [],
   "source": [
    "def normalization(mel_train, mel_test):\n",
    "    maximum = np.amax(mel_train)\n",
    "    mel_train = mel_train/maximum\n",
    "    mel_test = mel_test/maximum\n",
    "    return (mel_train.astype(np.float32), mel_test.astype(np.float32))\n",
    "\n",
    "mel_train_n, mel_test_n = normalization(mel_train, mel_test)"
   ]
  },
  {
   "cell_type": "markdown",
   "metadata": {},
   "source": [
    "Reshape the melspec the models dimensions"
   ]
  },
  {
   "cell_type": "code",
   "execution_count": 21,
   "metadata": {},
   "outputs": [
    {
     "name": "stdout",
     "output_type": "stream",
     "text": [
      "(3254, 64, 517, 1)\n",
      "(814, 64, 517, 1)\n"
     ]
    }
   ],
   "source": [
    "n_mels = 64\n",
    "# .reshape(n_mels, -1)\n",
    "\n",
    "# Reshaping Mel-Spectrogram\n",
    "def reshape_melspectogram(mel_train, mel_test):\n",
    "    n, m = mel_train.shape\n",
    "    mel_train = mel_train.reshape((n, n_mels, int(m/n_mels), 1))\n",
    "    n, m = mel_test.shape\n",
    "    mel_test = mel_test.reshape((n, n_mels, int(m/n_mels), 1))\n",
    "    return mel_train, mel_test\n",
    "\n",
    "mel_train_n, mel_test_n = reshape_melspectogram(mel_train_n, mel_test_n)\n",
    "\n",
    "print(mel_train_n.shape)\n",
    "print(mel_test_n.shape)"
   ]
  },
  {
   "cell_type": "markdown",
   "metadata": {},
   "source": [
    "Define the shot-chunk-cnn model"
   ]
  },
  {
   "cell_type": "code",
   "execution_count": 28,
   "metadata": {},
   "outputs": [
    {
     "name": "stdout",
     "output_type": "stream",
     "text": [
      "Model: \"sequential_6\"\n",
      "_________________________________________________________________\n",
      " Layer (type)                Output Shape              Param #   \n",
      "=================================================================\n",
      " conv2d_10 (Conv2D)          (None, 64, 517, 8)        80        \n",
      "                                                                 \n",
      " max_pooling2d_5 (MaxPooling  (None, 16, 130, 8)       0         \n",
      " 2D)                                                             \n",
      "                                                                 \n",
      " conv2d_11 (Conv2D)          (None, 16, 130, 16)       1168      \n",
      "                                                                 \n",
      " max_pooling2d_6 (MaxPooling  (None, 4, 33, 16)        0         \n",
      " 2D)                                                             \n",
      "                                                                 \n",
      " conv2d_12 (Conv2D)          (None, 4, 33, 32)         4640      \n",
      "                                                                 \n",
      " max_pooling2d_7 (MaxPooling  (None, 1, 9, 32)         0         \n",
      " 2D)                                                             \n",
      "                                                                 \n",
      " conv2d_13 (Conv2D)          (None, 1, 9, 64)          18496     \n",
      "                                                                 \n",
      " max_pooling2d_8 (MaxPooling  (None, 1, 3, 64)         0         \n",
      " 2D)                                                             \n",
      "                                                                 \n",
      " conv2d_14 (Conv2D)          (None, 1, 3, 64)          36928     \n",
      "                                                                 \n",
      " max_pooling2d_9 (MaxPooling  (None, 1, 1, 64)         0         \n",
      " 2D)                                                             \n",
      "                                                                 \n",
      " flatten_1 (Flatten)         (None, 64)                0         \n",
      "                                                                 \n",
      " dense_2 (Dense)             (None, 32)                2080      \n",
      "                                                                 \n",
      " dense_3 (Dense)             (None, 5)                 165       \n",
      "                                                                 \n",
      "=================================================================\n",
      "Total params: 63,557\n",
      "Trainable params: 63,557\n",
      "Non-trainable params: 0\n",
      "_________________________________________________________________\n"
     ]
    }
   ],
   "source": [
    "# Define the model\n",
    "def shortchunckcnn(input_shape, output_shape):\n",
    "    model = Sequential()\n",
    "    model.add(Conv2D(8, (3,3), activation= 'relu', input_shape=input_shape, padding= 'same'))\n",
    "    model.add(MaxPooling2D((4,4), padding= 'same'))\n",
    "    model.add(Conv2D(16, (3,3), activation= 'relu', padding= 'same'))\n",
    "    model.add(MaxPooling2D((4,4), padding= 'same'))\n",
    "    model.add(Conv2D(32, (3,3), activation= 'relu', padding= 'same'))\n",
    "    model.add(MaxPooling2D((4,4), padding= 'same'))\n",
    "    model.add(Conv2D(64, (3,3), activation= 'relu', padding= 'same'))\n",
    "    model.add(MaxPooling2D((4,4), padding= 'same'))\n",
    "    model.add(Conv2D(64, (3,3), activation= 'relu', padding= 'same'))\n",
    "    model.add(MaxPooling2D((4,4), padding= 'same'))\n",
    "    model.add(Flatten())\n",
    "    model.add(Dense(32, activation= 'relu'))\n",
    "    model.add(Dense(output_shape, activation= 'softmax'))\n",
    "\n",
    "    model.compile(optimizer= 'Adam', loss= 'categorical_crossentropy')\n",
    "    model.summary()\n",
    "\n",
    "    return model\n",
    "\n",
    "model = shortchunckcnn(mel_train_n[0].shape, labels.shape[1])"
   ]
  },
  {
   "cell_type": "markdown",
   "metadata": {},
   "source": [
    "Train the defined model"
   ]
  },
  {
   "cell_type": "code",
   "execution_count": 30,
   "metadata": {},
   "outputs": [
    {
     "name": "stdout",
     "output_type": "stream",
     "text": [
      "WARNING:tensorflow:`period` argument is deprecated. Please use `save_freq` to specify the frequency in number of batches seen.\n",
      "Epoch 1/3\n",
      "102/102 [==============================] - 8s 76ms/step - loss: 1.1664\n",
      "Epoch 2/3\n",
      "102/102 [==============================] - 9s 84ms/step - loss: 1.1116\n",
      "Epoch 3/3\n",
      "102/102 [==============================] - 8s 78ms/step - loss: 1.0912\n"
     ]
    }
   ],
   "source": [
    "checkpoint = ModelCheckpoint(\"models/short_chunk_cnn_{epoch:03d}.h5\", save_freq=5)\n",
    "\n",
    "epochs=3\n",
    "\n",
    "model.fit(mel_train_n, lab_train, epochs=epochs, callbacks=[checkpoint], batch_size=32, verbose=1)\n",
    "\n",
    "model.save(\"models/short_chunk_cnn_complete_{epochs}.h5\".format(epochs=epochs))"
   ]
  },
  {
   "cell_type": "code",
   "execution_count": 32,
   "metadata": {},
   "outputs": [
    {
     "name": "stdout",
     "output_type": "stream",
     "text": [
      "102/102 [==============================] - 2s 18ms/step\n",
      "51.51\n"
     ]
    }
   ],
   "source": [
    "model = load_model(\"models/short_chunk_cnn_complete_{epochs}.h5\".format(epochs=epochs))\n",
    "\n",
    "# Training Accuracy\n",
    "y_pred = model.predict(mel_train_n)\n",
    "y_pred = np.argmax(y_pred, axis= -1)\n",
    "y_true = np.argmax(lab_train, axis= -1)\n",
    "\n",
    "correct = len(y_pred) - np.count_nonzero(y_pred - y_true)\n",
    "acc = correct/ len(y_pred)\n",
    "acc = np.round(acc, 4) * 100\n",
    "\n",
    "print(acc)"
   ]
  },
  {
   "cell_type": "code",
   "execution_count": null,
   "metadata": {},
   "outputs": [],
   "source": [
    "\n",
    "print(\"Train Accuracy: \", correct, \"/\", len(y_pred), \" = \", acc, \"%\")\n",
    "\n",
    "# Testing Accuracy\n",
    "y_pred = model.predict(mel_test)\n",
    "y_pred = np.argmax(y_pred, axis= -1)\n",
    "y_true = np.argmax(y_test, axis= -1)\n",
    "\n",
    "correct = len(y_pred) - np.count_nonzero(y_pred - y_true)\n",
    "acc = correct/ len(y_pred)\n",
    "acc = np.round(acc, 4) * 100\n",
    "print(\"Testing Accuracy\", acc)\n",
    "\n",
    "class_names = [\"Blues\", \"Classical\", \"Country\", \"Disco\", \"Hiphop\", \"Jazz\", \"Metal\", \"Pop\", \"Reggae\", \"Rock\"]\n",
    "conf_mat = confusion_matrix(y_true, y_pred, normalize= 'true')\n",
    "conf_mat = np.round(conf_mat, 2)\n",
    "\n",
    "conf_mat_df = pd.DataFrame(conf_mat, columns= class_names, index= class_names)\n",
    "\n",
    "plt.figure(figsize = (10,7), dpi = 200)\n",
    "sn.set(font_scale=1.4)\n",
    "sn.heatmap(conf_mat_df, annot=True, annot_kws={\"size\": 16}) # font size\n",
    "plt.tight_layout()\n",
    "plt.savefig(os.getcwd() + \"/ensemble_mel_conf_mat1.png\")"
   ]
  }
 ],
 "metadata": {
  "kernelspec": {
   "display_name": "Python 3.10.6 ('ai_industry')",
   "language": "python",
   "name": "python3"
  },
  "language_info": {
   "codemirror_mode": {
    "name": "ipython",
    "version": 3
   },
   "file_extension": ".py",
   "mimetype": "text/x-python",
   "name": "python",
   "nbconvert_exporter": "python",
   "pygments_lexer": "ipython3",
   "version": "3.10.6"
  },
  "orig_nbformat": 4,
  "vscode": {
   "interpreter": {
    "hash": "d291c4e3f50793f536898541957e0ac77bd589a86ab1345b9dadb714b5a442d3"
   }
  }
 },
 "nbformat": 4,
 "nbformat_minor": 2
}
